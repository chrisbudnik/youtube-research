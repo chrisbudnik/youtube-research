{
 "cells": [
  {
   "cell_type": "code",
   "execution_count": 1,
   "metadata": {},
   "outputs": [
    {
     "name": "stdout",
     "output_type": "stream",
     "text": [
      "YouTube API Request -> https://www.googleapis.com/youtube/v3/videos?id=nGF4-8gRyn4%2C_ecuAisJr-A%2CMH-lvADDoO8%2CtlvcvNoMyrc%2CQ-VCEhmtEck%2CgL4FTZuCoy8&part=statistics%2Csnippet%2CcontentDetails%2CtopicDetails&key=API_KEY\n"
     ]
    },
    {
     "data": {
      "text/plain": [
       "{'kind': 'youtube#video',\n",
       " 'etag': 'HW64U1N-J60hW5jA-ZJRLMAAfjw',\n",
       " 'id': '_ecuAisJr-A',\n",
       " 'snippet': {'publishedAt': '2024-09-18T20:00:29Z',\n",
       "  'channelId': 'UCV6KDgJskWaEckne5aPA0aQ',\n",
       "  'title': 'URGENT: Federal Reserve Announces MASSIVE Rate Cut, Bailout Begins!',\n",
       "  'description': 'Get free life insurance quotes from America’s top insurers and start saving today with Policygenius: https://Policygenius.com/graham | Thanks to Policygenius for sponsoring this video! Let\\'s discuss the Federal Reserve Rate Cut and what this means for the stock market, housing prices, and your money | Add me on Instagram: GPStephan\\n\\nGET MY WEEKLY EMAIL MARKET RECAP NEWSLETTER: http://grahamstephan.com/newsletter\\n\\nTHE AUGUST INFLATION REPORT: \\nIt was just reported that inflation only rose by 0.2% in August, which was the lowest level since February of 2021. This effectively puts the 12-month inflation rate at just 2.5%, with Energy being one of the main culprits, having fallen 4%. On top of that, Used Cars and Trucks have declined 10%, new vehicles are down 1.2%, and oil is down 12.1% over a year.\\n\\nTHE STOCK MARKET: \\nSince the market is always forward-looking, stocks might sell off because rate hikes have already been priced in. For instance, one Investing.com analysis made the argument that investors “front-run” and anticipate future rate hikes - or cuts - and therefore, everything that happened today is already factored into where it’s trading. In terms of what’s most likely to happen in the future, history tells us that it all depends on whether or not we avoid a recession, which means according to all of the data, it appears as though rate cuts do not make AS BIG of a difference as people make it out to be, compared to the overall health of the economy.\\n\\nHOUSING PRICES: \\nThe good news - for buyers - is that prices are starting to get cut. A recent report found that “The share of available listings that saw a price cut in July rose to 18.9%, causing the median price to fall from $445,000 to $439,000.\"  Realtor dot com says there are two reasons for this: First, interest rates remain higher than expected (which means less buyer activity) and, two, a lot of would-be buyers are holding out for lower mortgage rates in the future - so, sellers are reducing their prices to entice them back. \\n\\nIn terms of rental prices, new data found that one-in-three property managers offered a concession on rents amid a glut of supply. Apparently, multi-family construction is on the rise, with “more units completed in June than in any month in nearly 50 years.”\\n\\nThe YouTube Creator Academy:  \\nLearn EXACTLY how to get your first 1000 subscribers on YouTube, rank videos on the front page of searches, grow your following, and turn that into another income source: https://the-real-estate-agent-academy.teachable.com/p/the-youtube-creator-academy/?product_id=1010756&coupon_code=100OFF - $100 OFF WITH CODE 100OFF \\n\\nMy ENTIRE Camera and Recording Equipment: \\nhttps://www.amazon.com/shop/grahamstephan?listId=2TNWZ7RP1P1EB\\n\\nFor business inquiries, you can reach me at grahamstephanbusiness@gmail.com\\n\\n*Some of the links and other products that appear on this video are from companies which Graham Stephan will earn an affiliate commission or referral bonus. Graham Stephan is part of an affiliate network and receives compensation for sending traffic to partner sites. The content in this video is accurate as of the posting date. Some of the offers mentioned may no longer be available. This is not investment advice.',\n",
       "  'thumbnails': {'default': {'url': 'https://i.ytimg.com/vi/_ecuAisJr-A/default.jpg',\n",
       "    'width': 120,\n",
       "    'height': 90},\n",
       "   'medium': {'url': 'https://i.ytimg.com/vi/_ecuAisJr-A/mqdefault.jpg',\n",
       "    'width': 320,\n",
       "    'height': 180},\n",
       "   'high': {'url': 'https://i.ytimg.com/vi/_ecuAisJr-A/hqdefault.jpg',\n",
       "    'width': 480,\n",
       "    'height': 360},\n",
       "   'standard': {'url': 'https://i.ytimg.com/vi/_ecuAisJr-A/sddefault.jpg',\n",
       "    'width': 640,\n",
       "    'height': 480},\n",
       "   'maxres': {'url': 'https://i.ytimg.com/vi/_ecuAisJr-A/maxresdefault.jpg',\n",
       "    'width': 1280,\n",
       "    'height': 720}},\n",
       "  'channelTitle': 'Graham Stephan',\n",
       "  'tags': ['investing',\n",
       "   'investing for beginners',\n",
       "   'investing in your 20s',\n",
       "   'how to invest',\n",
       "   'how to invest in real estate',\n",
       "   'how to invest in stocks',\n",
       "   'stock market investing',\n",
       "   'stock market investing for beginners',\n",
       "   'stock options',\n",
       "   'robinhood',\n",
       "   'robinhood app',\n",
       "   'best stock trading app',\n",
       "   'how to be a millionaire',\n",
       "   'how to be a millionaire in 3 years',\n",
       "   'credit score',\n",
       "   'credit score explained',\n",
       "   'credit card',\n",
       "   'credit cards for beginners',\n",
       "   'passive income',\n",
       "   'how to build wealth',\n",
       "   'how to build wealth in your 20s',\n",
       "   'real estate 101'],\n",
       "  'categoryId': '27',\n",
       "  'liveBroadcastContent': 'none',\n",
       "  'localized': {'title': 'URGENT: Federal Reserve Announces MASSIVE Rate Cut, Bailout Begins!',\n",
       "   'description': 'Get free life insurance quotes from America’s top insurers and start saving today with Policygenius: https://Policygenius.com/graham | Thanks to Policygenius for sponsoring this video! Let\\'s discuss the Federal Reserve Rate Cut and what this means for the stock market, housing prices, and your money | Add me on Instagram: GPStephan\\n\\nGET MY WEEKLY EMAIL MARKET RECAP NEWSLETTER: http://grahamstephan.com/newsletter\\n\\nTHE AUGUST INFLATION REPORT: \\nIt was just reported that inflation only rose by 0.2% in August, which was the lowest level since February of 2021. This effectively puts the 12-month inflation rate at just 2.5%, with Energy being one of the main culprits, having fallen 4%. On top of that, Used Cars and Trucks have declined 10%, new vehicles are down 1.2%, and oil is down 12.1% over a year.\\n\\nTHE STOCK MARKET: \\nSince the market is always forward-looking, stocks might sell off because rate hikes have already been priced in. For instance, one Investing.com analysis made the argument that investors “front-run” and anticipate future rate hikes - or cuts - and therefore, everything that happened today is already factored into where it’s trading. In terms of what’s most likely to happen in the future, history tells us that it all depends on whether or not we avoid a recession, which means according to all of the data, it appears as though rate cuts do not make AS BIG of a difference as people make it out to be, compared to the overall health of the economy.\\n\\nHOUSING PRICES: \\nThe good news - for buyers - is that prices are starting to get cut. A recent report found that “The share of available listings that saw a price cut in July rose to 18.9%, causing the median price to fall from $445,000 to $439,000.\"  Realtor dot com says there are two reasons for this: First, interest rates remain higher than expected (which means less buyer activity) and, two, a lot of would-be buyers are holding out for lower mortgage rates in the future - so, sellers are reducing their prices to entice them back. \\n\\nIn terms of rental prices, new data found that one-in-three property managers offered a concession on rents amid a glut of supply. Apparently, multi-family construction is on the rise, with “more units completed in June than in any month in nearly 50 years.”\\n\\nThe YouTube Creator Academy:  \\nLearn EXACTLY how to get your first 1000 subscribers on YouTube, rank videos on the front page of searches, grow your following, and turn that into another income source: https://the-real-estate-agent-academy.teachable.com/p/the-youtube-creator-academy/?product_id=1010756&coupon_code=100OFF - $100 OFF WITH CODE 100OFF \\n\\nMy ENTIRE Camera and Recording Equipment: \\nhttps://www.amazon.com/shop/grahamstephan?listId=2TNWZ7RP1P1EB\\n\\nFor business inquiries, you can reach me at grahamstephanbusiness@gmail.com\\n\\n*Some of the links and other products that appear on this video are from companies which Graham Stephan will earn an affiliate commission or referral bonus. Graham Stephan is part of an affiliate network and receives compensation for sending traffic to partner sites. The content in this video is accurate as of the posting date. Some of the offers mentioned may no longer be available. This is not investment advice.'},\n",
       "  'defaultAudioLanguage': 'en'},\n",
       " 'contentDetails': {'duration': 'PT15M23S',\n",
       "  'dimension': '2d',\n",
       "  'definition': 'hd',\n",
       "  'caption': 'false',\n",
       "  'licensedContent': True,\n",
       "  'contentRating': {},\n",
       "  'projection': 'rectangular'},\n",
       " 'statistics': {'viewCount': '500886',\n",
       "  'likeCount': '17906',\n",
       "  'favoriteCount': '0',\n",
       "  'commentCount': '1314'},\n",
       " 'topicDetails': {'topicCategories': ['https://en.wikipedia.org/wiki/Society']}}"
      ]
     },
     "execution_count": 1,
     "metadata": {},
     "output_type": "execute_result"
    }
   ],
   "source": [
    "from youtube_data.client import YouTube\n",
    "from secrets import api_key\n",
    "\n",
    "youtube = YouTube(api_key)\n",
    "video_ids = [\"nGF4-8gRyn4\", \"_ecuAisJr-A\", \"MH-lvADDoO8\", \"tlvcvNoMyrc\", \"Q-VCEhmtEck\", \"gL4FTZuCoy8\"]\n",
    "\n",
    "# Show details of the first video\n",
    "response = youtube.get_video_details(video_ids=video_ids, parsed_response=False)\n",
    "response[1]"
   ]
  },
  {
   "cell_type": "code",
   "execution_count": 2,
   "metadata": {},
   "outputs": [
    {
     "name": "stdout",
     "output_type": "stream",
     "text": [
      "YouTube API Request -> https://www.googleapis.com/youtube/v3/videos?id=nGF4-8gRyn4%2C_ecuAisJr-A%2CMH-lvADDoO8%2CtlvcvNoMyrc%2CQ-VCEhmtEck%2CgL4FTZuCoy8&part=statistics%2Csnippet%2CcontentDetails%2CtopicDetails&key=API_KEY\n"
     ]
    },
    {
     "data": {
      "text/plain": [
       "{'video_id': '_ecuAisJr-A',\n",
       " 'title': 'URGENT: Federal Reserve Announces MASSIVE Rate Cut, Bailout Begins!',\n",
       " 'description': 'Get free life insurance quotes from America’s top insurers and start saving today with Policygenius: https://Policygenius.com/graham | Thanks to Policygenius for sponsoring this video! Let\\'s discuss the Federal Reserve Rate Cut and what this means for the stock market, housing prices, and your money | Add me on Instagram: GPStephan\\n\\nGET MY WEEKLY EMAIL MARKET RECAP NEWSLETTER: http://grahamstephan.com/newsletter\\n\\nTHE AUGUST INFLATION REPORT: \\nIt was just reported that inflation only rose by 0.2% in August, which was the lowest level since February of 2021. This effectively puts the 12-month inflation rate at just 2.5%, with Energy being one of the main culprits, having fallen 4%. On top of that, Used Cars and Trucks have declined 10%, new vehicles are down 1.2%, and oil is down 12.1% over a year.\\n\\nTHE STOCK MARKET: \\nSince the market is always forward-looking, stocks might sell off because rate hikes have already been priced in. For instance, one Investing.com analysis made the argument that investors “front-run” and anticipate future rate hikes - or cuts - and therefore, everything that happened today is already factored into where it’s trading. In terms of what’s most likely to happen in the future, history tells us that it all depends on whether or not we avoid a recession, which means according to all of the data, it appears as though rate cuts do not make AS BIG of a difference as people make it out to be, compared to the overall health of the economy.\\n\\nHOUSING PRICES: \\nThe good news - for buyers - is that prices are starting to get cut. A recent report found that “The share of available listings that saw a price cut in July rose to 18.9%, causing the median price to fall from $445,000 to $439,000.\"  Realtor dot com says there are two reasons for this: First, interest rates remain higher than expected (which means less buyer activity) and, two, a lot of would-be buyers are holding out for lower mortgage rates in the future - so, sellers are reducing their prices to entice them back. \\n\\nIn terms of rental prices, new data found that one-in-three property managers offered a concession on rents amid a glut of supply. Apparently, multi-family construction is on the rise, with “more units completed in June than in any month in nearly 50 years.”\\n\\nThe YouTube Creator Academy:  \\nLearn EXACTLY how to get your first 1000 subscribers on YouTube, rank videos on the front page of searches, grow your following, and turn that into another income source: https://the-real-estate-agent-academy.teachable.com/p/the-youtube-creator-academy/?product_id=1010756&coupon_code=100OFF - $100 OFF WITH CODE 100OFF \\n\\nMy ENTIRE Camera and Recording Equipment: \\nhttps://www.amazon.com/shop/grahamstephan?listId=2TNWZ7RP1P1EB\\n\\nFor business inquiries, you can reach me at grahamstephanbusiness@gmail.com\\n\\n*Some of the links and other products that appear on this video are from companies which Graham Stephan will earn an affiliate commission or referral bonus. Graham Stephan is part of an affiliate network and receives compensation for sending traffic to partner sites. The content in this video is accurate as of the posting date. Some of the offers mentioned may no longer be available. This is not investment advice.',\n",
       " 'channel_id': 'UCV6KDgJskWaEckne5aPA0aQ',\n",
       " 'channel_title': 'Graham Stephan',\n",
       " 'published_at': datetime.datetime(2024, 9, 18, 20, 0, 29),\n",
       " 'duration': 923,\n",
       " 'tags': ['investing',\n",
       "  'investing for beginners',\n",
       "  'investing in your 20s',\n",
       "  'how to invest',\n",
       "  'how to invest in real estate',\n",
       "  'how to invest in stocks',\n",
       "  'stock market investing',\n",
       "  'stock market investing for beginners',\n",
       "  'stock options',\n",
       "  'robinhood',\n",
       "  'robinhood app',\n",
       "  'best stock trading app',\n",
       "  'how to be a millionaire',\n",
       "  'how to be a millionaire in 3 years',\n",
       "  'credit score',\n",
       "  'credit score explained',\n",
       "  'credit card',\n",
       "  'credit cards for beginners',\n",
       "  'passive income',\n",
       "  'how to build wealth',\n",
       "  'how to build wealth in your 20s',\n",
       "  'real estate 101'],\n",
       " 'category_id': 27,\n",
       " 'view_count': 500886,\n",
       " 'like_count': 17906,\n",
       " 'dislike_count': 0,\n",
       " 'comment_count': 1314}"
      ]
     },
     "execution_count": 2,
     "metadata": {},
     "output_type": "execute_result"
    }
   ],
   "source": [
    "# show details of the first PARSED video\n",
    "response = youtube.get_video_details(video_ids=video_ids)\n",
    "vid = response[1]\n",
    "vid.model_dump()"
   ]
  },
  {
   "cell_type": "code",
   "execution_count": 6,
   "metadata": {},
   "outputs": [
    {
     "name": "stdout",
     "output_type": "stream",
     "text": [
      "YouTube API Request -> https://www.googleapis.com/youtube/v3/channels?id=UCV6KDgJskWaEckne5aPA0aQ&part=statistics%2Csnippet%2CcontentDetails%2CtopicDetails&key=API_KEY\n"
     ]
    },
    {
     "data": {
      "text/plain": [
       "{'channel_id': 'UCV6KDgJskWaEckne5aPA0aQ',\n",
       " 'channel_title': 'Graham Stephan',\n",
       " 'description': \"As a 34 year old real estate investor who started working in real estate shortly after turning 18, with over $120,000,000 in residential sales since 2008, I've created this channel to share my successes, failures, and experiences in real estate, personal finance, and investing news. I'm also obsessed with frugality and credit card churning...a lot. So Subscribe! Because all the cool kids are doing it.  \\n\\nFeel free to follow me on Snapchat / Instagram: GPStephan\",\n",
       " 'custom_url': '@grahamstephan',\n",
       " 'published_at': datetime.datetime(2016, 12, 25, 7, 48, 56),\n",
       " 'uploads_playlist_id': 'UUV6KDgJskWaEckne5aPA0aQ',\n",
       " 'view_count': 1024902504,\n",
       " 'subscriber_count': 4860000,\n",
       " 'video_count': 1022}"
      ]
     },
     "execution_count": 6,
     "metadata": {},
     "output_type": "execute_result"
    }
   ],
   "source": [
    "from youtube_data.client import YouTube\n",
    "from secrets import api_key\n",
    "\n",
    "youtube = YouTube(api_key)\n",
    "\n",
    "# Get details of a channel\n",
    "channel_ids = [\"UCV6KDgJskWaEckne5aPA0aQ\"]\n",
    "channel = youtube.get_channel_details(channel_ids=channel_ids)\n",
    "channel[0].model_dump()"
   ]
  },
  {
   "cell_type": "code",
   "execution_count": 9,
   "metadata": {},
   "outputs": [
    {
     "name": "stdout",
     "output_type": "stream",
     "text": [
      "YouTube API Request -> https://www.googleapis.com/youtube/v3/playlistItems?part=snippet%2Cstatus&playlistId=UUV6KDgJskWaEckne5aPA0aQ&key=API_KEY\n"
     ]
    },
    {
     "data": {
      "text/plain": [
       "{'kind': 'youtube#playlistItemListResponse',\n",
       " 'etag': 'D6yRqhOF8vKduKBd6LMhH6lo1Q0',\n",
       " 'nextPageToken': 'EAAafVBUOkNBVWlFRVF6UlVZd05qZENRa1pGTTBNek5qWW9BVWl4Mk96bXdmMklBMUFCV2pnaVEyaG9WbFpXV1RKVE1GSnVVMjVPY2xZeVJrWlpNblIxV2xSV2FGVkZSWGRaVmtWVFJFRnFkamxhUnpSQ2FFUnZhM1pwZVVGbkln',\n",
       " 'items': [{'kind': 'youtube#playlistItem',\n",
       "   'etag': '3OS8VvpLdFBZKq3b3AXlY0BBWuU',\n",
       "   'id': 'VVVWNktEZ0pza1dhRWNrbmU1YVBBMGFRLms2T2R0ZkhpNzk0',\n",
       "   'snippet': {'publishedAt': '2024-10-07T17:00:39Z',\n",
       "    'channelId': 'UCV6KDgJskWaEckne5aPA0aQ',\n",
       "    'title': 'How Caleb Hammer Met His Girlfriend',\n",
       "    'description': \"Here's How Caleb Hammer Met His Girlfriend\",\n",
       "    'thumbnails': {'default': {'url': 'https://i.ytimg.com/vi/k6OdtfHi794/default.jpg',\n",
       "      'width': 120,\n",
       "      'height': 90},\n",
       "     'medium': {'url': 'https://i.ytimg.com/vi/k6OdtfHi794/mqdefault.jpg',\n",
       "      'width': 320,\n",
       "      'height': 180},\n",
       "     'high': {'url': 'https://i.ytimg.com/vi/k6OdtfHi794/hqdefault.jpg',\n",
       "      'width': 480,\n",
       "      'height': 360},\n",
       "     'standard': {'url': 'https://i.ytimg.com/vi/k6OdtfHi794/sddefault.jpg',\n",
       "      'width': 640,\n",
       "      'height': 480},\n",
       "     'maxres': {'url': 'https://i.ytimg.com/vi/k6OdtfHi794/maxresdefault.jpg',\n",
       "      'width': 1280,\n",
       "      'height': 720}},\n",
       "    'channelTitle': 'Graham Stephan',\n",
       "    'playlistId': 'UUV6KDgJskWaEckne5aPA0aQ',\n",
       "    'position': 0,\n",
       "    'resourceId': {'kind': 'youtube#video', 'videoId': 'k6OdtfHi794'},\n",
       "    'videoOwnerChannelTitle': 'Graham Stephan',\n",
       "    'videoOwnerChannelId': 'UCV6KDgJskWaEckne5aPA0aQ'},\n",
       "   'status': {'privacyStatus': 'public'}},\n",
       "  {'kind': 'youtube#playlistItem',\n",
       "   'etag': 'yuDXo-HowzZHskSIGBfikgdUK3k',\n",
       "   'id': 'VVVWNktEZ0pza1dhRWNrbmU1YVBBMGFRLm5HRjQtOGdSeW40',\n",
       "   'snippet': {'publishedAt': '2024-10-02T22:00:36Z',\n",
       "    'channelId': 'UCV6KDgJskWaEckne5aPA0aQ',\n",
       "    'title': 'Why “Looking Poor” Is Important',\n",
       "    'description': \"Take your personal data back with Incogni! Use code GRAHAM at the link below and get 60% off an annual plan: https://incogni.com/graham | Let's discuss the importance of Looking Poor - here's my take on a popular topic. Add me on Instagram: GPStephan\\n\\nGET MY WEEKLY EMAIL MARKET RECAP NEWSLETTER: http://grahamstephan.com/newsletter\\n\\nThe YouTube Creator Academy:  \\nLearn EXACTLY how to get your first 1000 subscribers on YouTube, rank videos on the front page of searches, grow your following, and turn that into another income source: https://the-real-estate-agent-academy.teachable.com/p/the-youtube-creator-academy/?product_id=1010756&coupon_code=100OFF - $100 OFF WITH CODE 100OFF \\n\\nMy ENTIRE Camera and Recording Equipment: \\nhttps://www.amazon.com/shop/grahamstephan?listId=2TNWZ7RP1P1EB\\n\\nFor business inquiries, you can reach me at grahamstephanbusiness@gmail.com\\n\\n*Some of the links and other products that appear on this video are from companies which Graham Stephan will earn an affiliate commission or referral bonus. Graham Stephan is part of an affiliate network and receives compensation for sending traffic to partner sites. The content in this video is accurate as of the posting date. Some of the offers mentioned may no longer be available. This is not investment advice.\",\n",
       "    'thumbnails': {'default': {'url': 'https://i.ytimg.com/vi/nGF4-8gRyn4/default.jpg',\n",
       "      'width': 120,\n",
       "      'height': 90},\n",
       "     'medium': {'url': 'https://i.ytimg.com/vi/nGF4-8gRyn4/mqdefault.jpg',\n",
       "      'width': 320,\n",
       "      'height': 180},\n",
       "     'high': {'url': 'https://i.ytimg.com/vi/nGF4-8gRyn4/hqdefault.jpg',\n",
       "      'width': 480,\n",
       "      'height': 360},\n",
       "     'standard': {'url': 'https://i.ytimg.com/vi/nGF4-8gRyn4/sddefault.jpg',\n",
       "      'width': 640,\n",
       "      'height': 480},\n",
       "     'maxres': {'url': 'https://i.ytimg.com/vi/nGF4-8gRyn4/maxresdefault.jpg',\n",
       "      'width': 1280,\n",
       "      'height': 720}},\n",
       "    'channelTitle': 'Graham Stephan',\n",
       "    'playlistId': 'UUV6KDgJskWaEckne5aPA0aQ',\n",
       "    'position': 1,\n",
       "    'resourceId': {'kind': 'youtube#video', 'videoId': 'nGF4-8gRyn4'},\n",
       "    'videoOwnerChannelTitle': 'Graham Stephan',\n",
       "    'videoOwnerChannelId': 'UCV6KDgJskWaEckne5aPA0aQ'},\n",
       "   'status': {'privacyStatus': 'public'}},\n",
       "  {'kind': 'youtube#playlistItem',\n",
       "   'etag': 'eM9ZF7IvTO0yQ_rFN7T8fks1P4A',\n",
       "   'id': 'VVVWNktEZ0pza1dhRWNrbmU1YVBBMGFRLkNYVDhfNHF2WUN3',\n",
       "   'snippet': {'publishedAt': '2024-09-25T19:00:05Z',\n",
       "    'channelId': 'UCV6KDgJskWaEckne5aPA0aQ',\n",
       "    'title': 'Zach King Reveals His Investment Portfolio!',\n",
       "    'description': '@ZachKing Zach King Reveals His Investment Portfolio!',\n",
       "    'thumbnails': {'default': {'url': 'https://i.ytimg.com/vi/CXT8_4qvYCw/default.jpg',\n",
       "      'width': 120,\n",
       "      'height': 90},\n",
       "     'medium': {'url': 'https://i.ytimg.com/vi/CXT8_4qvYCw/mqdefault.jpg',\n",
       "      'width': 320,\n",
       "      'height': 180},\n",
       "     'high': {'url': 'https://i.ytimg.com/vi/CXT8_4qvYCw/hqdefault.jpg',\n",
       "      'width': 480,\n",
       "      'height': 360},\n",
       "     'standard': {'url': 'https://i.ytimg.com/vi/CXT8_4qvYCw/sddefault.jpg',\n",
       "      'width': 640,\n",
       "      'height': 480},\n",
       "     'maxres': {'url': 'https://i.ytimg.com/vi/CXT8_4qvYCw/maxresdefault.jpg',\n",
       "      'width': 1280,\n",
       "      'height': 720}},\n",
       "    'channelTitle': 'Graham Stephan',\n",
       "    'playlistId': 'UUV6KDgJskWaEckne5aPA0aQ',\n",
       "    'position': 2,\n",
       "    'resourceId': {'kind': 'youtube#video', 'videoId': 'CXT8_4qvYCw'},\n",
       "    'videoOwnerChannelTitle': 'Graham Stephan',\n",
       "    'videoOwnerChannelId': 'UCV6KDgJskWaEckne5aPA0aQ'},\n",
       "   'status': {'privacyStatus': 'public'}},\n",
       "  {'kind': 'youtube#playlistItem',\n",
       "   'etag': 'qUzHq-uSR5ignAzgClTPY3vxZBQ',\n",
       "   'id': 'VVVWNktEZ0pza1dhRWNrbmU1YVBBMGFRLl9lY3VBaXNKci1B',\n",
       "   'snippet': {'publishedAt': '2024-09-18T20:00:29Z',\n",
       "    'channelId': 'UCV6KDgJskWaEckne5aPA0aQ',\n",
       "    'title': 'URGENT: Federal Reserve Announces MASSIVE Rate Cut, Bailout Begins!',\n",
       "    'description': 'Get free life insurance quotes from America’s top insurers and start saving today with Policygenius: https://Policygenius.com/graham | Thanks to Policygenius for sponsoring this video! Let\\'s discuss the Federal Reserve Rate Cut and what this means for the stock market, housing prices, and your money | Add me on Instagram: GPStephan\\n\\nGET MY WEEKLY EMAIL MARKET RECAP NEWSLETTER: http://grahamstephan.com/newsletter\\n\\nTHE AUGUST INFLATION REPORT: \\nIt was just reported that inflation only rose by 0.2% in August, which was the lowest level since February of 2021. This effectively puts the 12-month inflation rate at just 2.5%, with Energy being one of the main culprits, having fallen 4%. On top of that, Used Cars and Trucks have declined 10%, new vehicles are down 1.2%, and oil is down 12.1% over a year.\\n\\nTHE STOCK MARKET: \\nSince the market is always forward-looking, stocks might sell off because rate hikes have already been priced in. For instance, one Investing.com analysis made the argument that investors “front-run” and anticipate future rate hikes - or cuts - and therefore, everything that happened today is already factored into where it’s trading. In terms of what’s most likely to happen in the future, history tells us that it all depends on whether or not we avoid a recession, which means according to all of the data, it appears as though rate cuts do not make AS BIG of a difference as people make it out to be, compared to the overall health of the economy.\\n\\nHOUSING PRICES: \\nThe good news - for buyers - is that prices are starting to get cut. A recent report found that “The share of available listings that saw a price cut in July rose to 18.9%, causing the median price to fall from $445,000 to $439,000.\"  Realtor dot com says there are two reasons for this: First, interest rates remain higher than expected (which means less buyer activity) and, two, a lot of would-be buyers are holding out for lower mortgage rates in the future - so, sellers are reducing their prices to entice them back. \\n\\nIn terms of rental prices, new data found that one-in-three property managers offered a concession on rents amid a glut of supply. Apparently, multi-family construction is on the rise, with “more units completed in June than in any month in nearly 50 years.”\\n\\nThe YouTube Creator Academy:  \\nLearn EXACTLY how to get your first 1000 subscribers on YouTube, rank videos on the front page of searches, grow your following, and turn that into another income source: https://the-real-estate-agent-academy.teachable.com/p/the-youtube-creator-academy/?product_id=1010756&coupon_code=100OFF - $100 OFF WITH CODE 100OFF \\n\\nMy ENTIRE Camera and Recording Equipment: \\nhttps://www.amazon.com/shop/grahamstephan?listId=2TNWZ7RP1P1EB\\n\\nFor business inquiries, you can reach me at grahamstephanbusiness@gmail.com\\n\\n*Some of the links and other products that appear on this video are from companies which Graham Stephan will earn an affiliate commission or referral bonus. Graham Stephan is part of an affiliate network and receives compensation for sending traffic to partner sites. The content in this video is accurate as of the posting date. Some of the offers mentioned may no longer be available. This is not investment advice.',\n",
       "    'thumbnails': {'default': {'url': 'https://i.ytimg.com/vi/_ecuAisJr-A/default.jpg',\n",
       "      'width': 120,\n",
       "      'height': 90},\n",
       "     'medium': {'url': 'https://i.ytimg.com/vi/_ecuAisJr-A/mqdefault.jpg',\n",
       "      'width': 320,\n",
       "      'height': 180},\n",
       "     'high': {'url': 'https://i.ytimg.com/vi/_ecuAisJr-A/hqdefault.jpg',\n",
       "      'width': 480,\n",
       "      'height': 360},\n",
       "     'standard': {'url': 'https://i.ytimg.com/vi/_ecuAisJr-A/sddefault.jpg',\n",
       "      'width': 640,\n",
       "      'height': 480},\n",
       "     'maxres': {'url': 'https://i.ytimg.com/vi/_ecuAisJr-A/maxresdefault.jpg',\n",
       "      'width': 1280,\n",
       "      'height': 720}},\n",
       "    'channelTitle': 'Graham Stephan',\n",
       "    'playlistId': 'UUV6KDgJskWaEckne5aPA0aQ',\n",
       "    'position': 3,\n",
       "    'resourceId': {'kind': 'youtube#video', 'videoId': '_ecuAisJr-A'},\n",
       "    'videoOwnerChannelTitle': 'Graham Stephan',\n",
       "    'videoOwnerChannelId': 'UCV6KDgJskWaEckne5aPA0aQ'},\n",
       "   'status': {'privacyStatus': 'public'}},\n",
       "  {'kind': 'youtube#playlistItem',\n",
       "   'etag': 'l9DKVvi0SNOWTCCt2i6gKG9I5WQ',\n",
       "   'id': 'VVVWNktEZ0pza1dhRWNrbmU1YVBBMGFRLldMcEpPbF9SMlpB',\n",
       "   'snippet': {'publishedAt': '2024-09-09T16:00:33Z',\n",
       "    'channelId': 'UCV6KDgJskWaEckne5aPA0aQ',\n",
       "    'title': 'He Bought 3 Bitcoins And Lost Everything',\n",
       "    'description': \"He Bought 3 Bitcoin and Sold At A Loss - Here's Why - Enjoy! Thanks to @BetterLifePodcast for the podcast!\",\n",
       "    'thumbnails': {'default': {'url': 'https://i.ytimg.com/vi/WLpJOl_R2ZA/default.jpg',\n",
       "      'width': 120,\n",
       "      'height': 90},\n",
       "     'medium': {'url': 'https://i.ytimg.com/vi/WLpJOl_R2ZA/mqdefault.jpg',\n",
       "      'width': 320,\n",
       "      'height': 180},\n",
       "     'high': {'url': 'https://i.ytimg.com/vi/WLpJOl_R2ZA/hqdefault.jpg',\n",
       "      'width': 480,\n",
       "      'height': 360},\n",
       "     'standard': {'url': 'https://i.ytimg.com/vi/WLpJOl_R2ZA/sddefault.jpg',\n",
       "      'width': 640,\n",
       "      'height': 480},\n",
       "     'maxres': {'url': 'https://i.ytimg.com/vi/WLpJOl_R2ZA/maxresdefault.jpg',\n",
       "      'width': 1280,\n",
       "      'height': 720}},\n",
       "    'channelTitle': 'Graham Stephan',\n",
       "    'playlistId': 'UUV6KDgJskWaEckne5aPA0aQ',\n",
       "    'position': 4,\n",
       "    'resourceId': {'kind': 'youtube#video', 'videoId': 'WLpJOl_R2ZA'},\n",
       "    'videoOwnerChannelTitle': 'Graham Stephan',\n",
       "    'videoOwnerChannelId': 'UCV6KDgJskWaEckne5aPA0aQ'},\n",
       "   'status': {'privacyStatus': 'public'}}],\n",
       " 'pageInfo': {'totalResults': 1022, 'resultsPerPage': 5}}"
      ]
     },
     "execution_count": 9,
     "metadata": {},
     "output_type": "execute_result"
    }
   ],
   "source": [
    "playlist1 = youtube._request(\"playlistItems\", {\"part\": \"snippet,status\", \"playlistId\": \"UUV6KDgJskWaEckne5aPA0aQ\"})\n",
    "playlist1"
   ]
  },
  {
   "cell_type": "code",
   "execution_count": 1,
   "metadata": {},
   "outputs": [
    {
     "name": "stdout",
     "output_type": "stream",
     "text": [
      "YouTube API Request -> `https://www.googleapis.com/youtube/v3/playlistItems?playlistId=UUV6KDgJskWaEckne5aPA0aQ&part=snippet&maxResults=50&key=API_KEY`\n"
     ]
    },
    {
     "data": {
      "text/plain": [
       "{'playlist_id': 'UUV6KDgJskWaEckne5aPA0aQ',\n",
       " 'channel_id': 'UCV6KDgJskWaEckne5aPA0aQ',\n",
       " 'video_id': 'k6OdtfHi794',\n",
       " 'position': 0}"
      ]
     },
     "execution_count": 1,
     "metadata": {},
     "output_type": "execute_result"
    }
   ],
   "source": [
    "from youtube_data.client import YouTube\n",
    "from secrets import api_key\n",
    "\n",
    "youtube = YouTube(api_key)\n",
    "playlist = youtube.get_playlist_items(playlist_id=\"UUV6KDgJskWaEckne5aPA0aQ\")\n",
    "\n",
    "# Show details of the first video in the playlist\n",
    "playlist[0].model_dump()"
   ]
  },
  {
   "cell_type": "code",
   "execution_count": 1,
   "metadata": {},
   "outputs": [
    {
     "name": "stdout",
     "output_type": "stream",
     "text": [
      "YouTube API Request -> https://www.googleapis.com/youtube/v3/search?q=python&part=snippet&type=video&regionCode=US&relevanceLanguage=en&maxResults=5&key=API_KEY\n"
     ]
    },
    {
     "data": {
      "text/plain": [
       "[SearchItem(resource_type='youtube#video', video_id='_uQrJ0TkZlc', channel_id='UCWv7vMbMWH4-V0ZXdmDpPBA', playlist_id=None),\n",
       " SearchItem(resource_type='youtube#video', video_id='kqtD5dpn9C8', channel_id='UCWv7vMbMWH4-V0ZXdmDpPBA', playlist_id=None),\n",
       " SearchItem(resource_type='youtube#video', video_id='x7X9w_GIm1s', channel_id='UCsBjURrPoezykLs9EqgamOA', playlist_id=None),\n",
       " SearchItem(resource_type='youtube#video', video_id='rfscVS0vtbw', channel_id='UC8butISFwT-Wl7EV0hUK0BQ', playlist_id=None),\n",
       " SearchItem(resource_type='youtube#video', video_id='fWjsdhR3z3c', channel_id='UCuudpdbKmQWq2PPzYgVCWlA', playlist_id=None)]"
      ]
     },
     "execution_count": 1,
     "metadata": {},
     "output_type": "execute_result"
    }
   ],
   "source": [
    "from youtube_data.client import YouTube\n",
    "from youtube_data.enums import SearchResourceTypeEnum\n",
    "from secrets import api_key\n",
    "\n",
    "youtube = YouTube(api_key)\n",
    "search = youtube.search(\"python\", resource_type=SearchResourceTypeEnum.VIDEO)\n",
    "search"
   ]
  }
 ],
 "metadata": {
  "kernelspec": {
   "display_name": "base",
   "language": "python",
   "name": "python3"
  },
  "language_info": {
   "codemirror_mode": {
    "name": "ipython",
    "version": 3
   },
   "file_extension": ".py",
   "mimetype": "text/x-python",
   "name": "python",
   "nbconvert_exporter": "python",
   "pygments_lexer": "ipython3",
   "version": "3.11.4"
  }
 },
 "nbformat": 4,
 "nbformat_minor": 2
}
